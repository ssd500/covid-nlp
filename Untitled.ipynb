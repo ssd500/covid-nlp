{
 "cells": [
  {
   "cell_type": "code",
   "execution_count": 226,
   "metadata": {},
   "outputs": [
    {
     "name": "stderr",
     "output_type": "stream",
     "text": [
      "[nltk_data] Downloading package stopwords to\n",
      "[nltk_data]     C:\\Users\\deban\\AppData\\Roaming\\nltk_data...\n",
      "[nltk_data]   Package stopwords is already up-to-date!\n"
     ]
    }
   ],
   "source": [
    "import re\n",
    "import nltk\n",
    "from nltk.corpus import stopwords \n",
    "nltk.download('stopwords')\n",
    "\n",
    "def tolowercase(words):#converting to lowercase\n",
    "    for i in range(len(words)):\n",
    "        words[i]= words[i].lower()\n",
    "    return words\n",
    "        \n",
    "def emoji(words):#removing emojis\n",
    "    emo = re.compile(\"[\"\n",
    "                           u\"\\U0001F600-\\U0001F64F\"  # emoticons\n",
    "                           u\"\\U0001F300-\\U0001F5FF\"  # symbols & pictographs\n",
    "                           u\"\\U0001F680-\\U0001F6FF\"  # transport & map symbols\n",
    "                           u\"\\U0001F1E0-\\U0001F1FF\"  # flags (iOS)\n",
    "                           u\"\\U00002702-\\U000027B0\"\n",
    "                           u\"\\U000024C2-\\U0001F251\"\n",
    "                           \"]+\", flags=re.UNICODE)\n",
    "    for w in range(len(words)):\n",
    "        words[w]=emo.sub(r'', words[w])\n",
    "    return words\n",
    "        \n",
    "def removechar(words):#removing special characters\n",
    "    specialchar = [\"!\",'\"',\"#\",\"%\",\"&\",\"'\",\"(\",\")\",\n",
    "              \"*\",\"+\",\",\",\"-\",\".\",\"/\",\":\",\";\",\"<\",\n",
    "              \"=\",\">\",\"?\",\"@\",\"[\",\"\\\\\",\"]\",\"^\",\"_\",\n",
    "              \"`\",\"{\",\"|\",\"}\",\"~\",\"–\"]\n",
    "    \n",
    "    for c in specialchar:\n",
    "        for w in range(len(words)):\n",
    "            words[w] = words[w].replace(c, '')\n",
    "    return words\n",
    "\n",
    "def removelinks(words):#removing hyperlinks\n",
    "    for i in range(len(words)):\n",
    "        words[i] = re.sub(r'http\\S+','',words[i])\n",
    "    return words\n",
    "\n",
    "def removecommon(words):#removing stopwords\n",
    "    stop_words = list(stopwords.words('english'))\n",
    "    for i in range(len(words)):\n",
    "        for d in range(len(stop_words)):\n",
    "            if(words[i]==stop_words[d]):\n",
    "                words[i] = words[i].replace(stop_words[d],'')\n",
    "    return words\n",
    "\n",
    "def removeempty(words):#removing '' and ' '\n",
    "    newwords = []\n",
    "    for i in range(len(words)):\n",
    "        if(words[i]!='' and words[i]!=' '):\n",
    "            newwords.append(words[i])\n",
    "    return newwords\n"
   ]
  },
  {
   "cell_type": "code",
   "execution_count": null,
   "metadata": {},
   "outputs": [],
   "source": []
  },
  {
   "cell_type": "code",
   "execution_count": null,
   "metadata": {},
   "outputs": [],
   "source": []
  },
  {
   "cell_type": "code",
   "execution_count": null,
   "metadata": {},
   "outputs": [],
   "source": []
  },
  {
   "cell_type": "code",
   "execution_count": null,
   "metadata": {},
   "outputs": [],
   "source": []
  }
 ],
 "metadata": {
  "kernelspec": {
   "display_name": "Python 3",
   "language": "python",
   "name": "python3"
  },
  "language_info": {
   "codemirror_mode": {
    "name": "ipython",
    "version": 3
   },
   "file_extension": ".py",
   "mimetype": "text/x-python",
   "name": "python",
   "nbconvert_exporter": "python",
   "pygments_lexer": "ipython3",
   "version": "3.7.4"
  }
 },
 "nbformat": 4,
 "nbformat_minor": 2
}
